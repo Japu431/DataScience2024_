{
 "cells": [
  {
   "cell_type": "code",
   "execution_count": null,
   "id": "5569290f-960a-4c40-99de-f5101ab42dd8",
   "metadata": {},
   "outputs": [],
   "source": [
    "# A ideia desse Notebook\n",
    "# seria analisar e compreender os dados para criarmos um modelo analitico para prever a taxa de churn dos clientes da nossa instituição financeira"
   ]
  },
  {
   "cell_type": "code",
   "execution_count": 1,
   "id": "39eb871d-2fea-40b3-a543-53b31310bfa1",
   "metadata": {
    "tags": []
   },
   "outputs": [],
   "source": [
    "# Importando as libs\n",
    "# Pandas - criar dataframes modo tabular para conseguirmos ter a visão melhor sobre os dados e conseguir manipular de forma que possamos analisar.\n",
    "# Seaborn - Criar gráficos para entendimento dos dados de forma visual.\n",
    "# Statistics -  Vamos utilizar para caso haja algum dado inconsistente e utilizarmos para calcular por exemplo ( média de XPTO, Desvio Padrão e etc ).\n",
    "\n",
    "import pandas as pd\n",
    "import seaborn as srn\n",
    "import statistics as sts"
   ]
  },
  {
   "cell_type": "code",
   "execution_count": 2,
   "id": "a88c9c8f-a1bc-4011-a044-4bfcba8caa36",
   "metadata": {
    "tags": []
   },
   "outputs": [
    {
     "data": {
      "text/html": [
       "<div>\n",
       "<style scoped>\n",
       "    .dataframe tbody tr th:only-of-type {\n",
       "        vertical-align: middle;\n",
       "    }\n",
       "\n",
       "    .dataframe tbody tr th {\n",
       "        vertical-align: top;\n",
       "    }\n",
       "\n",
       "    .dataframe thead th {\n",
       "        text-align: right;\n",
       "    }\n",
       "</style>\n",
       "<table border=\"1\" class=\"dataframe\">\n",
       "  <thead>\n",
       "    <tr style=\"text-align: right;\">\n",
       "      <th></th>\n",
       "      <th>X0</th>\n",
       "      <th>X1</th>\n",
       "      <th>X2</th>\n",
       "      <th>X3</th>\n",
       "      <th>X4</th>\n",
       "      <th>X4.1</th>\n",
       "      <th>X6</th>\n",
       "      <th>X7</th>\n",
       "      <th>X8</th>\n",
       "      <th>X9</th>\n",
       "      <th>X10</th>\n",
       "      <th>X11</th>\n",
       "    </tr>\n",
       "  </thead>\n",
       "  <tbody>\n",
       "    <tr>\n",
       "      <th>0</th>\n",
       "      <td>1</td>\n",
       "      <td>619</td>\n",
       "      <td>RS</td>\n",
       "      <td>Feminino</td>\n",
       "      <td>42</td>\n",
       "      <td>2</td>\n",
       "      <td>0</td>\n",
       "      <td>1</td>\n",
       "      <td>1</td>\n",
       "      <td>1</td>\n",
       "      <td>10134888.0</td>\n",
       "      <td>1</td>\n",
       "    </tr>\n",
       "    <tr>\n",
       "      <th>1</th>\n",
       "      <td>2</td>\n",
       "      <td>608</td>\n",
       "      <td>SC</td>\n",
       "      <td>Feminino</td>\n",
       "      <td>41</td>\n",
       "      <td>1</td>\n",
       "      <td>8380786</td>\n",
       "      <td>1</td>\n",
       "      <td>0</td>\n",
       "      <td>1</td>\n",
       "      <td>11254258.0</td>\n",
       "      <td>0</td>\n",
       "    </tr>\n",
       "    <tr>\n",
       "      <th>2</th>\n",
       "      <td>3</td>\n",
       "      <td>502</td>\n",
       "      <td>RS</td>\n",
       "      <td>Feminino</td>\n",
       "      <td>42</td>\n",
       "      <td>8</td>\n",
       "      <td>1596608</td>\n",
       "      <td>3</td>\n",
       "      <td>1</td>\n",
       "      <td>0</td>\n",
       "      <td>11393157.0</td>\n",
       "      <td>1</td>\n",
       "    </tr>\n",
       "    <tr>\n",
       "      <th>3</th>\n",
       "      <td>4</td>\n",
       "      <td>699</td>\n",
       "      <td>RS</td>\n",
       "      <td>Feminino</td>\n",
       "      <td>39</td>\n",
       "      <td>1</td>\n",
       "      <td>0</td>\n",
       "      <td>2</td>\n",
       "      <td>0</td>\n",
       "      <td>0</td>\n",
       "      <td>9382663.0</td>\n",
       "      <td>0</td>\n",
       "    </tr>\n",
       "    <tr>\n",
       "      <th>4</th>\n",
       "      <td>5</td>\n",
       "      <td>850</td>\n",
       "      <td>SC</td>\n",
       "      <td>Feminino</td>\n",
       "      <td>43</td>\n",
       "      <td>2</td>\n",
       "      <td>12551082</td>\n",
       "      <td>1</td>\n",
       "      <td>1</td>\n",
       "      <td>1</td>\n",
       "      <td>790841.0</td>\n",
       "      <td>0</td>\n",
       "    </tr>\n",
       "  </tbody>\n",
       "</table>\n",
       "</div>"
      ],
      "text/plain": [
       "   X0   X1  X2        X3  X4  X4.1        X6  X7  X8  X9         X10  X11\n",
       "0   1  619  RS  Feminino  42     2         0   1   1   1  10134888.0    1\n",
       "1   2  608  SC  Feminino  41     1   8380786   1   0   1  11254258.0    0\n",
       "2   3  502  RS  Feminino  42     8   1596608   3   1   0  11393157.0    1\n",
       "3   4  699  RS  Feminino  39     1         0   2   0   0   9382663.0    0\n",
       "4   5  850  SC  Feminino  43     2  12551082   1   1   1    790841.0    0"
      ]
     },
     "execution_count": 2,
     "metadata": {},
     "output_type": "execute_result"
    }
   ],
   "source": [
    "# importando os dados e mostrando as 5 primeiras linhas\n",
    "df = pd.read_csv('Churn.csv', sep= ';')\n",
    "df.head()"
   ]
  },
  {
   "cell_type": "code",
   "execution_count": 4,
   "id": "0f4d4f44-93fe-4be9-b949-bf3abd9c82ca",
   "metadata": {
    "tags": []
   },
   "outputs": [
    {
     "data": {
      "text/plain": [
       "(999, 12)"
      ]
     },
     "execution_count": 4,
     "metadata": {},
     "output_type": "execute_result"
    }
   ],
   "source": [
    "# ( Linhas x Colunas )\n",
    "df.shape"
   ]
  },
  {
   "cell_type": "code",
   "execution_count": 6,
   "id": "ca5197c3-50d7-4e31-8785-9ef76b1dda3c",
   "metadata": {
    "tags": []
   },
   "outputs": [],
   "source": [
    "# Definindo o nome das colunas que estavam inadequados\n",
    "df.columns = [\"ID\", \"Score\", \"Estado\", \"Sexo\", \"Idade\", \"Patrimonio\", \"Saldo\", \"Produtos\", \"TemCartaoCredito\", \"Ativo\", \"Salario\", \"Saiu\"]"
   ]
  },
  {
   "cell_type": "code",
   "execution_count": 8,
   "id": "976a5d34-6fdc-4505-aa82-126b68daba5a",
   "metadata": {
    "tags": []
   },
   "outputs": [
    {
     "data": {
      "text/html": [
       "<div>\n",
       "<style scoped>\n",
       "    .dataframe tbody tr th:only-of-type {\n",
       "        vertical-align: middle;\n",
       "    }\n",
       "\n",
       "    .dataframe tbody tr th {\n",
       "        vertical-align: top;\n",
       "    }\n",
       "\n",
       "    .dataframe thead th {\n",
       "        text-align: right;\n",
       "    }\n",
       "</style>\n",
       "<table border=\"1\" class=\"dataframe\">\n",
       "  <thead>\n",
       "    <tr style=\"text-align: right;\">\n",
       "      <th></th>\n",
       "      <th>ID</th>\n",
       "      <th>Score</th>\n",
       "      <th>Estado</th>\n",
       "      <th>Sexo</th>\n",
       "      <th>Idade</th>\n",
       "      <th>Patrimonio</th>\n",
       "      <th>Saldo</th>\n",
       "      <th>Produtos</th>\n",
       "      <th>TemCartaoCredito</th>\n",
       "      <th>Ativo</th>\n",
       "      <th>Salario</th>\n",
       "      <th>Saiu</th>\n",
       "    </tr>\n",
       "  </thead>\n",
       "  <tbody>\n",
       "    <tr>\n",
       "      <th>0</th>\n",
       "      <td>1</td>\n",
       "      <td>619</td>\n",
       "      <td>RS</td>\n",
       "      <td>Feminino</td>\n",
       "      <td>42</td>\n",
       "      <td>2</td>\n",
       "      <td>0</td>\n",
       "      <td>1</td>\n",
       "      <td>1</td>\n",
       "      <td>1</td>\n",
       "      <td>10134888.0</td>\n",
       "      <td>1</td>\n",
       "    </tr>\n",
       "    <tr>\n",
       "      <th>1</th>\n",
       "      <td>2</td>\n",
       "      <td>608</td>\n",
       "      <td>SC</td>\n",
       "      <td>Feminino</td>\n",
       "      <td>41</td>\n",
       "      <td>1</td>\n",
       "      <td>8380786</td>\n",
       "      <td>1</td>\n",
       "      <td>0</td>\n",
       "      <td>1</td>\n",
       "      <td>11254258.0</td>\n",
       "      <td>0</td>\n",
       "    </tr>\n",
       "    <tr>\n",
       "      <th>2</th>\n",
       "      <td>3</td>\n",
       "      <td>502</td>\n",
       "      <td>RS</td>\n",
       "      <td>Feminino</td>\n",
       "      <td>42</td>\n",
       "      <td>8</td>\n",
       "      <td>1596608</td>\n",
       "      <td>3</td>\n",
       "      <td>1</td>\n",
       "      <td>0</td>\n",
       "      <td>11393157.0</td>\n",
       "      <td>1</td>\n",
       "    </tr>\n",
       "    <tr>\n",
       "      <th>3</th>\n",
       "      <td>4</td>\n",
       "      <td>699</td>\n",
       "      <td>RS</td>\n",
       "      <td>Feminino</td>\n",
       "      <td>39</td>\n",
       "      <td>1</td>\n",
       "      <td>0</td>\n",
       "      <td>2</td>\n",
       "      <td>0</td>\n",
       "      <td>0</td>\n",
       "      <td>9382663.0</td>\n",
       "      <td>0</td>\n",
       "    </tr>\n",
       "    <tr>\n",
       "      <th>4</th>\n",
       "      <td>5</td>\n",
       "      <td>850</td>\n",
       "      <td>SC</td>\n",
       "      <td>Feminino</td>\n",
       "      <td>43</td>\n",
       "      <td>2</td>\n",
       "      <td>12551082</td>\n",
       "      <td>1</td>\n",
       "      <td>1</td>\n",
       "      <td>1</td>\n",
       "      <td>790841.0</td>\n",
       "      <td>0</td>\n",
       "    </tr>\n",
       "  </tbody>\n",
       "</table>\n",
       "</div>"
      ],
      "text/plain": [
       "   ID  Score Estado      Sexo  Idade  Patrimonio     Saldo  Produtos  \\\n",
       "0   1    619     RS  Feminino     42           2         0         1   \n",
       "1   2    608     SC  Feminino     41           1   8380786         1   \n",
       "2   3    502     RS  Feminino     42           8   1596608         3   \n",
       "3   4    699     RS  Feminino     39           1         0         2   \n",
       "4   5    850     SC  Feminino     43           2  12551082         1   \n",
       "\n",
       "   TemCartaoCredito  Ativo     Salario  Saiu  \n",
       "0                 1      1  10134888.0     1  \n",
       "1                 0      1  11254258.0     0  \n",
       "2                 1      0  11393157.0     1  \n",
       "3                 0      0   9382663.0     0  \n",
       "4                 1      1    790841.0     0  "
      ]
     },
     "execution_count": 8,
     "metadata": {},
     "output_type": "execute_result"
    }
   ],
   "source": [
    "df.head()"
   ]
  },
  {
   "cell_type": "code",
   "execution_count": 9,
   "id": "e6fc9394-09d0-431a-ac15-97c5bfb4f9a8",
   "metadata": {
    "tags": []
   },
   "outputs": [],
   "source": [
    "# Entendendo os dados e colunas\n",
    "# \"ID\" - Identificador do Cliente\n",
    "# \"Score\" - Score de crédito do cliente\n",
    "# \"Estado\" - Estado onde mora\n",
    "# \"Sexo\" - Sexo ( Masculino / Feminino ) \n",
    "# \"Idade\" - Idade do cliente\n",
    "# \"Patrimonio\" - Quantidade de Patrimonio ( Imoveis por exemplo )\n",
    "# \"Saldo\" - Saldo na conta\n",
    "# \"Produtos\" - Quantidade de produtos usados do Banco\n",
    "# \"TemCartaoCredito\" -  Se ele tem cartão de crédito\n",
    "# \"Ativo\" - Se ele é um cliente ativo\n",
    "# \"Salario\" - Salário dele mensal\n",
    "# \"Saiu\" - Se saiu ou não da instituição"
   ]
  },
  {
   "cell_type": "code",
   "execution_count": null,
   "id": "6f8dff52-e527-43a3-96ed-a82325e1d2f5",
   "metadata": {},
   "outputs": [],
   "source": [
    "# >> Analise Exploratória dos Dados << "
   ]
  },
  {
   "cell_type": "code",
   "execution_count": 11,
   "id": "44c1edcb-2b68-4fdb-8d35-aad4c4cfe770",
   "metadata": {
    "tags": []
   },
   "outputs": [
    {
     "data": {
      "text/plain": [
       "Estado\n",
       "PR    257\n",
       "RP      1\n",
       "RS    478\n",
       "SC    258\n",
       "SP      4\n",
       "TD      1\n",
       "dtype: int64"
      ]
     },
     "execution_count": 11,
     "metadata": {},
     "output_type": "execute_result"
    }
   ],
   "source": [
    "# Categoricos\n",
    "agrupado = df.groupby(['Estado']).size()\n",
    "agrupado"
   ]
  },
  {
   "cell_type": "code",
   "execution_count": null,
   "id": "79425d80-7a3d-4662-8d18-843eea93c4b1",
   "metadata": {},
   "outputs": [],
   "source": [
    "# Como podemos visualizar, temos alguns problemas existentes na nossa coluna de Estados, na nossa regra de negócio entendemos que a nossa instituição \n",
    "# ele não oferece para regiões fora do Sul, e existem estados que não existem também \n",
    "\n",
    "# SP - Sudeste\n",
    "# RP - Não existe\n",
    "# TD - Não existe\n",
    "\n",
    "# Então vamos ver como que podemos eliminar esses dados e os tratar de forma que não vá prejudicar nosso modelo futuramente."
   ]
  },
  {
   "cell_type": "code",
   "execution_count": 13,
   "id": "c1d979d5-5a20-41f1-a7b6-eeb53397fa7d",
   "metadata": {
    "tags": []
   },
   "outputs": [
    {
     "data": {
      "text/plain": [
       "<Axes: xlabel='Estado'>"
      ]
     },
     "execution_count": 13,
     "metadata": {},
     "output_type": "execute_result"
    },
    {
     "data": {
      "image/png": "[encoded data removed]",
      "text/plain": [
       "<Figure size 640x480 with 1 Axes>"
      ]
     },
     "metadata": {},
     "output_type": "display_data"
    }
   ],
   "source": [
    "# Visualização de Grafico de Barras\n",
    "agrupado.plot.bar(color='blue')"
   ]
  },
  {
   "cell_type": "code",
   "execution_count": 16,
   "id": "acb39fc3-ce44-42c0-bf71-926aa27e03c6",
   "metadata": {
    "tags": []
   },
   "outputs": [
    {
     "data": {
      "text/plain": [
       "Sexo\n",
       "F              2\n",
       "Fem            1\n",
       "Feminino     461\n",
       "M              6\n",
       "Masculino    521\n",
       "dtype: int64"
      ]
     },
     "execution_count": 16,
     "metadata": {},
     "output_type": "execute_result"
    }
   ],
   "source": [
    "# Genero\n",
    "\n",
    "agrupado = df.groupby(['Sexo']).size()\n",
    "agrupado "
   ]
  },
  {
   "cell_type": "code",
   "execution_count": null,
   "id": "45ded948-126d-42ee-8cc7-72cc2dbd42cc",
   "metadata": {},
   "outputs": [],
   "source": [
    "# Como podemos ver, temos algumas informações onde vieram de forma distintas porém com a mesma resposta,\n",
    "# então nesse caso, não podemos eliminar e substituir como moda pois representam o mesma resposta, então vamos unificar esses dados de forma consistente. "
   ]
  },
  {
   "cell_type": "code",
   "execution_count": 18,
   "id": "3b29c126-debc-42d9-8b4f-6e30e819302c",
   "metadata": {
    "tags": []
   },
   "outputs": [
    {
     "data": {
      "text/plain": [
       "<Axes: xlabel='Sexo'>"
      ]
     },
     "execution_count": 18,
     "metadata": {},
     "output_type": "execute_result"
    },
    {
     "data": {
      "image/png": "[encoded data removed]",
      "text/plain": [
       "<Figure size 640x480 with 1 Axes>"
      ]
     },
     "metadata": {},
     "output_type": "display_data"
    }
   ],
   "source": [
    "agrupado.plot.bar(color = \"blue\")"
   ]
  },
  {
   "cell_type": "code",
   "execution_count": 19,
   "id": "92416d01-ce9e-4ead-9045-f66db203d360",
   "metadata": {
    "tags": []
   },
   "outputs": [
    {
     "data": {
      "text/plain": [
       "count    999.000000\n",
       "mean     648.621622\n",
       "std       98.264219\n",
       "min      376.000000\n",
       "25%      580.000000\n",
       "50%      653.000000\n",
       "75%      721.000000\n",
       "max      850.000000\n",
       "Name: Score, dtype: float64"
      ]
     },
     "execution_count": 19,
     "metadata": {},
     "output_type": "execute_result"
    }
   ],
   "source": [
    "# Colunas Númericas\n",
    "# Score\n",
    "df['Score'].describe()"
   ]
  },
  {
   "cell_type": "code",
   "execution_count": 20,
   "id": "85f606aa-9c0f-4d10-9dc9-3361b8a13779",
   "metadata": {
    "tags": []
   },
   "outputs": [
    {
     "data": {
      "text/plain": [
       "Text(0.5, 1.0, 'Score')"
      ]
     },
     "execution_count": 20,
     "metadata": {},
     "output_type": "execute_result"
    },
    {
     "data": {
      "image/png": "[encoded data removed]",
      "text/plain": [
       "<Figure size 640x480 with 1 Axes>"
      ]
     },
     "metadata": {},
     "output_type": "display_data"
    }
   ],
   "source": [
    "# Podemos visualizar a distribuição dos dados, onde temos a mediana, primeiro quartil e terceiro quartil\n",
    "# Os >> quartis <<  são valores que dividem uma amostra de dados em quatro partes \n",
    "# iguais e são usados para avaliar a dispersão e a tendência central de um conjunto de dados.\n",
    "\n",
    "\n",
    "srn.boxplot(df['Score']).set_title('Score')"
   ]
  },
  {
   "cell_type": "code",
   "execution_count": 42,
   "id": "8356d909-4caa-4f7b-9371-c90af9d04d0a",
   "metadata": {
    "tags": []
   },
   "outputs": [
    {
     "data": {
      "text/plain": [
       "Text(0.5, 1.0, 'Distribuição dos Score')"
      ]
     },
     "execution_count": 42,
     "metadata": {},
     "output_type": "execute_result"
    },
    {
     "data": {
      "image/png": "[encoded data removed]",
      "text/plain": [
       "<Figure size 640x480 with 1 Axes>"
      ]
     },
     "metadata": {},
     "output_type": "display_data"
    }
   ],
   "source": [
    "srn.histplot(df['Score'], kde=True).set_title('Distribuição dos Score')"
   ]
  },
  {
   "cell_type": "code",
   "execution_count": 53,
   "id": "fb50fdff-ca40-49e8-af42-06c4fc9a6dc7",
   "metadata": {
    "tags": []
   },
   "outputs": [
    {
     "data": {
      "text/plain": [
       "count    999.000000\n",
       "mean      38.902903\n",
       "std       11.401912\n",
       "min      -20.000000\n",
       "25%       32.000000\n",
       "50%       37.000000\n",
       "75%       44.000000\n",
       "max      140.000000\n",
       "Name: Idade, dtype: float64"
      ]
     },
     "execution_count": 53,
     "metadata": {},
     "output_type": "execute_result"
    }
   ],
   "source": [
    "df['Idade'].describe()"
   ]
  },
  {
   "cell_type": "code",
   "execution_count": 55,
   "id": "33e5d32c-6004-482e-bb0b-6e5b71053033",
   "metadata": {
    "tags": []
   },
   "outputs": [
    {
     "data": {
      "text/plain": [
       "Text(0.5, 1.0, 'Distruibuição das Idades')"
      ]
     },
     "execution_count": 55,
     "metadata": {},
     "output_type": "execute_result"
    },
    {
     "data": {
      "image/png": "[encoded data removed]",
      "text/plain": [
       "<Figure size 640x480 with 1 Axes>"
      ]
     },
     "metadata": {},
     "output_type": "display_data"
    }
   ],
   "source": [
    "# Como podemos ver, existem alguns outliers em relação a idade, onde existem os devios padrões \n",
    "# antes do zero e depois de 100 anos mas vemos que a idade média está ok de acordo.\n",
    "\n",
    "srn.boxplot(df['Idade']).set_title('Distruibuição das Idades')"
   ]
  },
  {
   "cell_type": "code",
   "execution_count": 58,
   "id": "6063e9a6-21de-4269-9d74-26f7276540f7",
   "metadata": {
    "tags": []
   },
   "outputs": [
    {
     "data": {
      "text/plain": [
       "Text(0.5, 1.0, 'Distribuição das Idades')"
      ]
     },
     "execution_count": 58,
     "metadata": {},
     "output_type": "execute_result"
    },
    {
     "data": {
      "image/png": "[encoded data removed]",
      "text/plain": [
       "<Figure size 640x480 with 1 Axes>"
      ]
     },
     "metadata": {},
     "output_type": "display_data"
    }
   ],
   "source": [
    "srn.histplot(df['Idade'], kde= True).set_title('Distribuição das Idades')"
   ]
  },
  {
   "cell_type": "code",
   "execution_count": 59,
   "id": "6701aa3d-f432-4c82-b656-4a5736925db1",
   "metadata": {
    "tags": []
   },
   "outputs": [
    {
     "data": {
      "text/plain": [
       "count    9.990000e+02\n",
       "mean     7.164928e+06\n",
       "std      6.311840e+06\n",
       "min      0.000000e+00\n",
       "25%      0.000000e+00\n",
       "50%      8.958835e+06\n",
       "75%      1.258684e+07\n",
       "max      2.117743e+07\n",
       "Name: Saldo, dtype: float64"
      ]
     },
     "execution_count": 59,
     "metadata": {},
     "output_type": "execute_result"
    }
   ],
   "source": [
    "# Saldo\n",
    "df['Saldo'].describe()"
   ]
  },
  {
   "cell_type": "code",
   "execution_count": 63,
   "id": "b71da4d8-b4b1-4af1-b0c8-4ee98de8095a",
   "metadata": {
    "tags": []
   },
   "outputs": [
    {
     "data": {
      "text/plain": [
       "Text(0.5, 1.0, 'Distribuição do Saldo')"
      ]
     },
     "execution_count": 63,
     "metadata": {},
     "output_type": "execute_result"
    },
    {
     "data": {
      "image/png": "[encoded data removed]",
      "text/plain": [
       "<Figure size 640x480 with 1 Axes>"
      ]
     },
     "metadata": {},
     "output_type": "display_data"
    }
   ],
   "source": [
    "srn.boxplot(df['Saldo']).set_title(\"Distribuição do Saldo\")"
   ]
  },
  {
   "cell_type": "code",
   "execution_count": 64,
   "id": "4605b73a-46d5-4ab3-8026-9f89b060e14d",
   "metadata": {
    "tags": []
   },
   "outputs": [
    {
     "data": {
      "text/plain": [
       "<Axes: xlabel='Saldo', ylabel='Count'>"
      ]
     },
     "execution_count": 64,
     "metadata": {},
     "output_type": "execute_result"
    },
    {
     "data": {
      "image/png": "[encoded data removed]",
      "text/plain": [
       "<Figure size 640x480 with 1 Axes>"
      ]
     },
     "metadata": {},
     "output_type": "display_data"
    }
   ],
   "source": [
    "srn.histplot(df['Saldo'], kde= True)"
   ]
  },
  {
   "cell_type": "code",
   "execution_count": 65,
   "id": "a5a57217-bd97-46e4-96d5-025abc4abd8a",
   "metadata": {
    "tags": []
   },
   "outputs": [
    {
     "data": {
      "text/plain": [
       "count    9.920000e+02\n",
       "mean     3.528762e+07\n",
       "std      5.305800e+08\n",
       "min      9.677000e+03\n",
       "25%      3.029011e+06\n",
       "50%      8.703250e+06\n",
       "75%      1.405213e+07\n",
       "max      1.193469e+10\n",
       "Name: Salario, dtype: float64"
      ]
     },
     "execution_count": 65,
     "metadata": {},
     "output_type": "execute_result"
    }
   ],
   "source": [
    "df['Salario'].describe()"
   ]
  },
  {
   "cell_type": "code",
   "execution_count": 66,
   "id": "a53ac2f4-c688-4625-8d79-a557c99d4880",
   "metadata": {
    "tags": []
   },
   "outputs": [
    {
     "data": {
      "text/plain": [
       "Text(0.5, 1.0, 'Salario')"
      ]
     },
     "execution_count": 66,
     "metadata": {},
     "output_type": "execute_result"
    },
    {
     "data": {
      "image/png": "[encoded data removed]",
      "text/plain": [
       "<Figure size 640x480 with 1 Axes>"
      ]
     },
     "metadata": {},
     "output_type": "display_data"
    }
   ],
   "source": [
    "srn.boxplot(df['Salario']).set_title('Salario')"
   ]
  },
  {
   "cell_type": "code",
   "execution_count": 67,
   "id": "3d9331e6-ffd2-4af4-9366-c5865569670e",
   "metadata": {
    "tags": []
   },
   "outputs": [
    {
     "data": {
      "text/plain": [
       "Text(0.5, 1.0, 'Distribuição dos Salarios')"
      ]
     },
     "execution_count": 67,
     "metadata": {},
     "output_type": "execute_result"
    },
    {
     "data": {
      "image/png": "[encoded data removed]",
      "text/plain": [
       "<Figure size 640x480 with 1 Axes>"
      ]
     },
     "metadata": {},
     "output_type": "display_data"
    }
   ],
   "source": [
    "srn.histplot(df['Salario'], kde=True).set_title(\"Distribuição dos Salarios\")"
   ]
  },
  {
   "cell_type": "code",
   "execution_count": 68,
   "id": "c15b8f49-24f5-4a7e-96ee-424226ccc83d",
   "metadata": {
    "tags": []
   },
   "outputs": [
    {
     "data": {
      "text/plain": [
       "ID                  0\n",
       "Score               0\n",
       "Estado              0\n",
       "Sexo                8\n",
       "Idade               0\n",
       "Patrimonio          0\n",
       "Saldo               0\n",
       "Produtos            0\n",
       "TemCartaoCredito    0\n",
       "Ativo               0\n",
       "Salario             7\n",
       "Saiu                0\n",
       "dtype: int64"
      ]
     },
     "execution_count": 68,
     "metadata": {},
     "output_type": "execute_result"
    }
   ],
   "source": [
    "# Contando valores NaN ( Nulos )\n",
    "df.isnull().sum()"
   ]
  },
  {
   "cell_type": "code",
   "execution_count": null,
   "id": "46c05f62-830d-4715-b330-163dffcfc2e7",
   "metadata": {},
   "outputs": [],
   "source": [
    "# Tratamento de dados"
   ]
  },
  {
   "cell_type": "code",
   "execution_count": 69,
   "id": "4f1d55d5-8ca7-42a2-aeb8-7aeee13c07c7",
   "metadata": {
    "tags": []
   },
   "outputs": [
    {
     "data": {
      "text/plain": [
       "70518.0"
      ]
     },
     "execution_count": 69,
     "metadata": {},
     "output_type": "execute_result"
    }
   ],
   "source": [
    "# Calculando a mediana do salário\n",
    "mediana = sts.median(df['Salario'])\n",
    "mediana"
   ]
  },
  {
   "cell_type": "code",
   "execution_count": 70,
   "id": "ef0c6093-9ad7-4f00-89fb-756ae6dcf868",
   "metadata": {
    "tags": []
   },
   "outputs": [],
   "source": [
    "# Substituindo os valores nulos pela var Mediana e modificando no próprio DataFrame\n",
    "df['Salario'].fillna(mediana, inplace=True)"
   ]
  },
  {
   "cell_type": "code",
   "execution_count": 72,
   "id": "3e881343-dd83-4b90-941e-620d8efa1ee9",
   "metadata": {
    "tags": []
   },
   "outputs": [
    {
     "data": {
      "text/plain": [
       "ID                  0\n",
       "Score               0\n",
       "Estado              0\n",
       "Sexo                8\n",
       "Idade               0\n",
       "Patrimonio          0\n",
       "Saldo               0\n",
       "Produtos            0\n",
       "TemCartaoCredito    0\n",
       "Ativo               0\n",
       "Salario             0\n",
       "Saiu                0\n",
       "dtype: int64"
      ]
     },
     "execution_count": 72,
     "metadata": {},
     "output_type": "execute_result"
    }
   ],
   "source": [
    "# Substituido com sucesso! \n",
    "df.isnull().sum()"
   ]
  },
  {
   "cell_type": "code",
   "execution_count": 75,
   "id": "532de006-8ba8-4e98-868b-1f2e36d8afb4",
   "metadata": {
    "tags": []
   },
   "outputs": [
    {
     "data": {
      "text/plain": [
       "Sexo\n",
       "F              2\n",
       "Fem            1\n",
       "Feminino     461\n",
       "M              6\n",
       "Masculino    521\n",
       "dtype: int64"
      ]
     },
     "execution_count": 75,
     "metadata": {},
     "output_type": "execute_result"
    }
   ],
   "source": [
    "agrupado = df.groupby(['Sexo']).size()\n",
    "agrupado"
   ]
  },
  {
   "cell_type": "code",
   "execution_count": 76,
   "id": "5a38d3ed-531d-46ba-9607-607f52e91e94",
   "metadata": {
    "tags": []
   },
   "outputs": [],
   "source": [
    "# Preenchemos os valores NaN como \"Masculino\"\n",
    "df['Sexo'].fillna('Masculino', inplace=True)"
   ]
  },
  {
   "cell_type": "code",
   "execution_count": 77,
   "id": "4ddae6ce-1ecb-4b8a-a9a6-545d6d01f0c5",
   "metadata": {
    "tags": []
   },
   "outputs": [
    {
     "data": {
      "text/plain": [
       "0"
      ]
     },
     "execution_count": 77,
     "metadata": {},
     "output_type": "execute_result"
    }
   ],
   "source": [
    "df['Sexo'].isnull().sum()"
   ]
  },
  {
   "cell_type": "code",
   "execution_count": 85,
   "id": "3b914a69-2471-421f-b934-6a1e304a99ec",
   "metadata": {
    "tags": []
   },
   "outputs": [],
   "source": [
    "# Fazemos uma condição para padronizar os dados de \"Sexo\"\n",
    "df.loc[df['Sexo'] == 'M', 'Sexo'] = \"Masculino\"\n",
    "df.loc[df['Sexo'].isin(['Fem', 'F']), 'Sexo'] = \"Feminino\""
   ]
  },
  {
   "cell_type": "code",
   "execution_count": 87,
   "id": "3ff114f6-7959-4ea4-80ea-df489a43021a",
   "metadata": {
    "tags": []
   },
   "outputs": [
    {
     "data": {
      "text/plain": [
       "Sexo\n",
       "Feminino     464\n",
       "Masculino    535\n",
       "dtype: int64"
      ]
     },
     "execution_count": 87,
     "metadata": {},
     "output_type": "execute_result"
    }
   ],
   "source": [
    "# Verificamos se realmente funcionou\n",
    "agrupado = df.groupby(['Sexo']).size()\n",
    "agrupado"
   ]
  },
  {
   "cell_type": "code",
   "execution_count": 88,
   "id": "4452a8b1-e80e-4750-b92a-b5c6429c4ab5",
   "metadata": {
    "tags": []
   },
   "outputs": [
    {
     "data": {
      "text/plain": [
       "count    999.000000\n",
       "mean      38.902903\n",
       "std       11.401912\n",
       "min      -20.000000\n",
       "25%       32.000000\n",
       "50%       37.000000\n",
       "75%       44.000000\n",
       "max      140.000000\n",
       "Name: Idade, dtype: float64"
      ]
     },
     "execution_count": 88,
     "metadata": {},
     "output_type": "execute_result"
    }
   ],
   "source": [
    "# Como vimos anteriormente, no nosso DataFrame existem dados negativos, e obviamente não existem idade negativa e nem acima de 140 então vamos padronizar eles de forma adequada\n",
    "df['Idade'].describe()"
   ]
  },
  {
   "cell_type": "code",
   "execution_count": 90,
   "id": "716c1e7b-3481-404e-9bde-3fa93b5dbc26",
   "metadata": {
    "tags": []
   },
   "outputs": [
    {
     "data": {
      "text/html": [
       "<div>\n",
       "<style scoped>\n",
       "    .dataframe tbody tr th:only-of-type {\n",
       "        vertical-align: middle;\n",
       "    }\n",
       "\n",
       "    .dataframe tbody tr th {\n",
       "        vertical-align: top;\n",
       "    }\n",
       "\n",
       "    .dataframe thead th {\n",
       "        text-align: right;\n",
       "    }\n",
       "</style>\n",
       "<table border=\"1\" class=\"dataframe\">\n",
       "  <thead>\n",
       "    <tr style=\"text-align: right;\">\n",
       "      <th></th>\n",
       "      <th>ID</th>\n",
       "      <th>Score</th>\n",
       "      <th>Estado</th>\n",
       "      <th>Sexo</th>\n",
       "      <th>Idade</th>\n",
       "      <th>Patrimonio</th>\n",
       "      <th>Saldo</th>\n",
       "      <th>Produtos</th>\n",
       "      <th>TemCartaoCredito</th>\n",
       "      <th>Ativo</th>\n",
       "      <th>Salario</th>\n",
       "      <th>Saiu</th>\n",
       "    </tr>\n",
       "  </thead>\n",
       "  <tbody>\n",
       "    <tr>\n",
       "      <th>867</th>\n",
       "      <td>869</td>\n",
       "      <td>636</td>\n",
       "      <td>RS</td>\n",
       "      <td>Feminino</td>\n",
       "      <td>-10</td>\n",
       "      <td>1</td>\n",
       "      <td>17083346</td>\n",
       "      <td>1</td>\n",
       "      <td>1</td>\n",
       "      <td>0</td>\n",
       "      <td>11051028.0</td>\n",
       "      <td>1</td>\n",
       "    </tr>\n",
       "    <tr>\n",
       "      <th>984</th>\n",
       "      <td>986</td>\n",
       "      <td>773</td>\n",
       "      <td>RS</td>\n",
       "      <td>Masculino</td>\n",
       "      <td>-20</td>\n",
       "      <td>1</td>\n",
       "      <td>12453278</td>\n",
       "      <td>2</td>\n",
       "      <td>0</td>\n",
       "      <td>1</td>\n",
       "      <td>1172357.0</td>\n",
       "      <td>0</td>\n",
       "    </tr>\n",
       "  </tbody>\n",
       "</table>\n",
       "</div>"
      ],
      "text/plain": [
       "      ID  Score Estado       Sexo  Idade  Patrimonio     Saldo  Produtos  \\\n",
       "867  869    636     RS   Feminino    -10           1  17083346         1   \n",
       "984  986    773     RS  Masculino    -20           1  12453278         2   \n",
       "\n",
       "     TemCartaoCredito  Ativo     Salario  Saiu  \n",
       "867                 1      0  11051028.0     1  \n",
       "984                 0      1   1172357.0     0  "
      ]
     },
     "execution_count": 90,
     "metadata": {},
     "output_type": "execute_result"
    }
   ],
   "source": [
    "df.loc[(df['Idade'] < 0 | (df['Idade'] > 120 ))]"
   ]
  },
  {
   "cell_type": "code",
   "execution_count": 91,
   "id": "02053b1f-4af9-448a-aab2-71fc43bff0f8",
   "metadata": {
    "tags": []
   },
   "outputs": [],
   "source": [
    "mediana = sts.median(df['Idade'])"
   ]
  },
  {
   "cell_type": "code",
   "execution_count": 92,
   "id": "4029d011-8523-48f3-8d67-dba94a8d82e9",
   "metadata": {
    "tags": []
   },
   "outputs": [
    {
     "data": {
      "text/plain": [
       "37"
      ]
     },
     "execution_count": 92,
     "metadata": {},
     "output_type": "execute_result"
    }
   ],
   "source": [
    "mediana"
   ]
  },
  {
   "cell_type": "code",
   "execution_count": 93,
   "id": "e7f5f707-89f5-4c0c-be96-e7c5bc644b92",
   "metadata": {
    "tags": []
   },
   "outputs": [],
   "source": [
    "# Prencheemos os dados incoerentes para coerentes\n",
    "df.loc[(df['Idade'] < 0 | (df['Idade'] > 120 ))] = mediana"
   ]
  },
  {
   "cell_type": "code",
   "execution_count": 94,
   "id": "97a9bd8f-8277-44a1-a661-6afbdd57e1b0",
   "metadata": {
    "tags": []
   },
   "outputs": [
    {
     "data": {
      "text/html": [
       "<div>\n",
       "<style scoped>\n",
       "    .dataframe tbody tr th:only-of-type {\n",
       "        vertical-align: middle;\n",
       "    }\n",
       "\n",
       "    .dataframe tbody tr th {\n",
       "        vertical-align: top;\n",
       "    }\n",
       "\n",
       "    .dataframe thead th {\n",
       "        text-align: right;\n",
       "    }\n",
       "</style>\n",
       "<table border=\"1\" class=\"dataframe\">\n",
       "  <thead>\n",
       "    <tr style=\"text-align: right;\">\n",
       "      <th></th>\n",
       "      <th>ID</th>\n",
       "      <th>Score</th>\n",
       "      <th>Estado</th>\n",
       "      <th>Sexo</th>\n",
       "      <th>Idade</th>\n",
       "      <th>Patrimonio</th>\n",
       "      <th>Saldo</th>\n",
       "      <th>Produtos</th>\n",
       "      <th>TemCartaoCredito</th>\n",
       "      <th>Ativo</th>\n",
       "      <th>Salario</th>\n",
       "      <th>Saiu</th>\n",
       "    </tr>\n",
       "  </thead>\n",
       "  <tbody>\n",
       "  </tbody>\n",
       "</table>\n",
       "</div>"
      ],
      "text/plain": [
       "Empty DataFrame\n",
       "Columns: [ID, Score, Estado, Sexo, Idade, Patrimonio, Saldo, Produtos, TemCartaoCredito, Ativo, Salario, Saiu]\n",
       "Index: []"
      ]
     },
     "execution_count": 94,
     "metadata": {},
     "output_type": "execute_result"
    }
   ],
   "source": [
    "#Verificação.\n",
    "df.loc[(df['Idade'] < 0 | (df['Idade'] > 120 ))]"
   ]
  },
  {
   "cell_type": "code",
   "execution_count": 97,
   "id": "c6697414-a2a1-4b26-8ad2-875a738cc069",
   "metadata": {
    "tags": []
   },
   "outputs": [
    {
     "data": {
      "text/html": [
       "<div>\n",
       "<style scoped>\n",
       "    .dataframe tbody tr th:only-of-type {\n",
       "        vertical-align: middle;\n",
       "    }\n",
       "\n",
       "    .dataframe tbody tr th {\n",
       "        vertical-align: top;\n",
       "    }\n",
       "\n",
       "    .dataframe thead th {\n",
       "        text-align: right;\n",
       "    }\n",
       "</style>\n",
       "<table border=\"1\" class=\"dataframe\">\n",
       "  <thead>\n",
       "    <tr style=\"text-align: right;\">\n",
       "      <th></th>\n",
       "      <th>ID</th>\n",
       "      <th>Score</th>\n",
       "      <th>Estado</th>\n",
       "      <th>Sexo</th>\n",
       "      <th>Idade</th>\n",
       "      <th>Patrimonio</th>\n",
       "      <th>Saldo</th>\n",
       "      <th>Produtos</th>\n",
       "      <th>TemCartaoCredito</th>\n",
       "      <th>Ativo</th>\n",
       "      <th>Salario</th>\n",
       "      <th>Saiu</th>\n",
       "    </tr>\n",
       "  </thead>\n",
       "  <tbody>\n",
       "    <tr>\n",
       "      <th>36</th>\n",
       "      <td>37</td>\n",
       "      <td>490</td>\n",
       "      <td>SC</td>\n",
       "      <td>Masculino</td>\n",
       "      <td>31</td>\n",
       "      <td>3</td>\n",
       "      <td>14526023</td>\n",
       "      <td>1</td>\n",
       "      <td>0</td>\n",
       "      <td>1</td>\n",
       "      <td>11406677.0</td>\n",
       "      <td>0</td>\n",
       "    </tr>\n",
       "    <tr>\n",
       "      <th>80</th>\n",
       "      <td>81</td>\n",
       "      <td>665</td>\n",
       "      <td>RS</td>\n",
       "      <td>Feminino</td>\n",
       "      <td>34</td>\n",
       "      <td>1</td>\n",
       "      <td>9664554</td>\n",
       "      <td>2</td>\n",
       "      <td>0</td>\n",
       "      <td>0</td>\n",
       "      <td>17141366.0</td>\n",
       "      <td>0</td>\n",
       "    </tr>\n",
       "    <tr>\n",
       "      <th>81</th>\n",
       "      <td>81</td>\n",
       "      <td>665</td>\n",
       "      <td>RS</td>\n",
       "      <td>Feminino</td>\n",
       "      <td>34</td>\n",
       "      <td>1</td>\n",
       "      <td>9664554</td>\n",
       "      <td>2</td>\n",
       "      <td>0</td>\n",
       "      <td>0</td>\n",
       "      <td>17141366.0</td>\n",
       "      <td>0</td>\n",
       "    </tr>\n",
       "    <tr>\n",
       "      <th>867</th>\n",
       "      <td>37</td>\n",
       "      <td>37</td>\n",
       "      <td>37</td>\n",
       "      <td>37</td>\n",
       "      <td>37</td>\n",
       "      <td>37</td>\n",
       "      <td>37</td>\n",
       "      <td>37</td>\n",
       "      <td>37</td>\n",
       "      <td>37</td>\n",
       "      <td>37.0</td>\n",
       "      <td>37</td>\n",
       "    </tr>\n",
       "    <tr>\n",
       "      <th>984</th>\n",
       "      <td>37</td>\n",
       "      <td>37</td>\n",
       "      <td>37</td>\n",
       "      <td>37</td>\n",
       "      <td>37</td>\n",
       "      <td>37</td>\n",
       "      <td>37</td>\n",
       "      <td>37</td>\n",
       "      <td>37</td>\n",
       "      <td>37</td>\n",
       "      <td>37.0</td>\n",
       "      <td>37</td>\n",
       "    </tr>\n",
       "  </tbody>\n",
       "</table>\n",
       "</div>"
      ],
      "text/plain": [
       "     ID  Score Estado       Sexo  Idade  Patrimonio     Saldo  Produtos  \\\n",
       "36   37    490     SC  Masculino     31           3  14526023         1   \n",
       "80   81    665     RS   Feminino     34           1   9664554         2   \n",
       "81   81    665     RS   Feminino     34           1   9664554         2   \n",
       "867  37     37     37         37     37          37        37        37   \n",
       "984  37     37     37         37     37          37        37        37   \n",
       "\n",
       "     TemCartaoCredito  Ativo     Salario  Saiu  \n",
       "36                  0      1  11406677.0     0  \n",
       "80                  0      0  17141366.0     0  \n",
       "81                  0      0  17141366.0     0  \n",
       "867                37     37        37.0    37  \n",
       "984                37     37        37.0    37  "
      ]
     },
     "execution_count": 97,
     "metadata": {},
     "output_type": "execute_result"
    }
   ],
   "source": [
    "# Validação para verificar se existe valores duplicados.\n",
    "df[df.duplicated(['ID'], keep=False)]"
   ]
  },
  {
   "cell_type": "code",
   "execution_count": 98,
   "id": "3742ebb7-ce9e-4a40-b30c-ae5c366c986b",
   "metadata": {
    "tags": []
   },
   "outputs": [
    {
     "data": {
      "text/html": [
       "<div>\n",
       "<style scoped>\n",
       "    .dataframe tbody tr th:only-of-type {\n",
       "        vertical-align: middle;\n",
       "    }\n",
       "\n",
       "    .dataframe tbody tr th {\n",
       "        vertical-align: top;\n",
       "    }\n",
       "\n",
       "    .dataframe thead th {\n",
       "        text-align: right;\n",
       "    }\n",
       "</style>\n",
       "<table border=\"1\" class=\"dataframe\">\n",
       "  <thead>\n",
       "    <tr style=\"text-align: right;\">\n",
       "      <th></th>\n",
       "      <th>ID</th>\n",
       "      <th>Score</th>\n",
       "      <th>Estado</th>\n",
       "      <th>Sexo</th>\n",
       "      <th>Idade</th>\n",
       "      <th>Patrimonio</th>\n",
       "      <th>Saldo</th>\n",
       "      <th>Produtos</th>\n",
       "      <th>TemCartaoCredito</th>\n",
       "      <th>Ativo</th>\n",
       "      <th>Salario</th>\n",
       "      <th>Saiu</th>\n",
       "    </tr>\n",
       "  </thead>\n",
       "  <tbody>\n",
       "  </tbody>\n",
       "</table>\n",
       "</div>"
      ],
      "text/plain": [
       "Empty DataFrame\n",
       "Columns: [ID, Score, Estado, Sexo, Idade, Patrimonio, Saldo, Produtos, TemCartaoCredito, Ativo, Salario, Saiu]\n",
       "Index: []"
      ]
     },
     "execution_count": 98,
     "metadata": {},
     "output_type": "execute_result"
    }
   ],
   "source": [
    "# Dropamos os valores duplicados! \n",
    "df.drop_duplicates(subset=\"ID\", keep='first', inplace=True)\n",
    "\n",
    "# Verificamos o DataFrame\n",
    "df[df.duplicated(['ID'], keep=False)]"
   ]
  },
  {
   "cell_type": "code",
   "execution_count": 100,
   "id": "886b0876-131d-48f1-8cb9-f6a783f6d7cb",
   "metadata": {
    "tags": []
   },
   "outputs": [
    {
     "data": {
      "text/plain": [
       "Estado\n",
       "PR    257\n",
       "RP      1\n",
       "RS    475\n",
       "SC    258\n",
       "SP      4\n",
       "TD      1\n",
       "dtype: int64"
      ]
     },
     "execution_count": 100,
     "metadata": {},
     "output_type": "execute_result"
    }
   ],
   "source": [
    "agrupado =df.groupby(['Estado']).size()\n",
    "agrupado"
   ]
  },
  {
   "cell_type": "code",
   "execution_count": 105,
   "id": "921bf74c-0284-4c65-8742-57071d9d9dc3",
   "metadata": {
    "tags": []
   },
   "outputs": [
    {
     "data": {
      "text/plain": [
       "Estado\n",
       "PR    257\n",
       "RP      1\n",
       "RS    475\n",
       "SC    258\n",
       "SP      4\n",
       "TD      1\n",
       "dtype: int64"
      ]
     },
     "execution_count": 105,
     "metadata": {},
     "output_type": "execute_result"
    }
   ],
   "source": [
    "df.loc[df['Estado'].isin([\"SP\",\"RP\",\"TD\"]), 'Estado'] = \"RS\" "
   ]
  },
  {
   "cell_type": "code",
   "execution_count": 109,
   "id": "db08ad64-f077-4d1c-bf0e-1871afa67cd6",
   "metadata": {
    "tags": []
   },
   "outputs": [
    {
     "data": {
      "text/plain": [
       "Estado\n",
       "PR    257\n",
       "RS    481\n",
       "SC    258\n",
       "dtype: int64"
      ]
     },
     "execution_count": 109,
     "metadata": {},
     "output_type": "execute_result"
    }
   ],
   "source": [
    "agrupado = df.groupby(['Estado']).size()\n",
    "agrupado"
   ]
  },
  {
   "cell_type": "code",
   "execution_count": 111,
   "id": "42237392-f981-4a22-82f4-7c0e56cd785f",
   "metadata": {
    "tags": []
   },
   "outputs": [
    {
     "data": {
      "text/plain": [
       "529518658.8369494"
      ]
     },
     "execution_count": 111,
     "metadata": {},
     "output_type": "execute_result"
    }
   ],
   "source": [
    "# Outliers em salário, vamos considerar 2 desvios padrões\n",
    "desv = sts.stdev(df['Salario'])\n",
    "desv"
   ]
  },
  {
   "cell_type": "code",
   "execution_count": 112,
   "id": "153a2f87-078c-44e6-bd68-838f79a511bf",
   "metadata": {
    "tags": []
   },
   "outputs": [
    {
     "data": {
      "text/html": [
       "<div>\n",
       "<style scoped>\n",
       "    .dataframe tbody tr th:only-of-type {\n",
       "        vertical-align: middle;\n",
       "    }\n",
       "\n",
       "    .dataframe tbody tr th {\n",
       "        vertical-align: top;\n",
       "    }\n",
       "\n",
       "    .dataframe thead th {\n",
       "        text-align: right;\n",
       "    }\n",
       "</style>\n",
       "<table border=\"1\" class=\"dataframe\">\n",
       "  <thead>\n",
       "    <tr style=\"text-align: right;\">\n",
       "      <th></th>\n",
       "      <th>ID</th>\n",
       "      <th>Score</th>\n",
       "      <th>Estado</th>\n",
       "      <th>Sexo</th>\n",
       "      <th>Idade</th>\n",
       "      <th>Patrimonio</th>\n",
       "      <th>Saldo</th>\n",
       "      <th>Produtos</th>\n",
       "      <th>TemCartaoCredito</th>\n",
       "      <th>Ativo</th>\n",
       "      <th>Salario</th>\n",
       "      <th>Saiu</th>\n",
       "    </tr>\n",
       "  </thead>\n",
       "  <tbody>\n",
       "    <tr>\n",
       "      <th>7</th>\n",
       "      <td>8</td>\n",
       "      <td>376</td>\n",
       "      <td>PR</td>\n",
       "      <td>Feminino</td>\n",
       "      <td>29</td>\n",
       "      <td>4</td>\n",
       "      <td>11504674</td>\n",
       "      <td>4</td>\n",
       "      <td>1</td>\n",
       "      <td>0</td>\n",
       "      <td>1.193469e+10</td>\n",
       "      <td>1</td>\n",
       "    </tr>\n",
       "    <tr>\n",
       "      <th>116</th>\n",
       "      <td>118</td>\n",
       "      <td>668</td>\n",
       "      <td>PR</td>\n",
       "      <td>Feminino</td>\n",
       "      <td>37</td>\n",
       "      <td>6</td>\n",
       "      <td>1678644</td>\n",
       "      <td>1</td>\n",
       "      <td>1</td>\n",
       "      <td>0</td>\n",
       "      <td>1.156383e+10</td>\n",
       "      <td>0</td>\n",
       "    </tr>\n",
       "    <tr>\n",
       "      <th>170</th>\n",
       "      <td>172</td>\n",
       "      <td>484</td>\n",
       "      <td>RS</td>\n",
       "      <td>Feminino</td>\n",
       "      <td>29</td>\n",
       "      <td>4</td>\n",
       "      <td>13011439</td>\n",
       "      <td>1</td>\n",
       "      <td>1</td>\n",
       "      <td>0</td>\n",
       "      <td>1.640179e+09</td>\n",
       "      <td>0</td>\n",
       "    </tr>\n",
       "    <tr>\n",
       "      <th>230</th>\n",
       "      <td>232</td>\n",
       "      <td>673</td>\n",
       "      <td>RS</td>\n",
       "      <td>Masculino</td>\n",
       "      <td>72</td>\n",
       "      <td>1</td>\n",
       "      <td>0</td>\n",
       "      <td>2</td>\n",
       "      <td>0</td>\n",
       "      <td>1</td>\n",
       "      <td>1.119812e+09</td>\n",
       "      <td>0</td>\n",
       "    </tr>\n",
       "  </tbody>\n",
       "</table>\n",
       "</div>"
      ],
      "text/plain": [
       "      ID  Score Estado       Sexo  Idade  Patrimonio     Saldo  Produtos  \\\n",
       "7      8    376     PR   Feminino     29           4  11504674         4   \n",
       "116  118    668     PR   Feminino     37           6   1678644         1   \n",
       "170  172    484     RS   Feminino     29           4  13011439         1   \n",
       "230  232    673     RS  Masculino     72           1         0         2   \n",
       "\n",
       "     TemCartaoCredito  Ativo       Salario  Saiu  \n",
       "7                   1      0  1.193469e+10     1  \n",
       "116                 1      0  1.156383e+10     0  \n",
       "170                 1      0  1.640179e+09     0  \n",
       "230                 0      1  1.119812e+09     0  "
      ]
     },
     "execution_count": 112,
     "metadata": {},
     "output_type": "execute_result"
    }
   ],
   "source": [
    "df.loc[df['Salario'] >= 2 * desv]"
   ]
  },
  {
   "cell_type": "code",
   "execution_count": 113,
   "id": "d7433875-f833-4c4a-b71f-71f772a58d7d",
   "metadata": {
    "tags": []
   },
   "outputs": [
    {
     "data": {
      "text/plain": [
       "8637195.5"
      ]
     },
     "execution_count": 113,
     "metadata": {},
     "output_type": "execute_result"
    }
   ],
   "source": [
    "mediana = sts.median(df['Salario'])\n",
    "mediana"
   ]
  },
  {
   "cell_type": "code",
   "execution_count": 115,
   "id": "0692697c-d194-416c-83ed-7f06a71d6832",
   "metadata": {
    "tags": []
   },
   "outputs": [
    {
     "data": {
      "text/html": [
       "<div>\n",
       "<style scoped>\n",
       "    .dataframe tbody tr th:only-of-type {\n",
       "        vertical-align: middle;\n",
       "    }\n",
       "\n",
       "    .dataframe tbody tr th {\n",
       "        vertical-align: top;\n",
       "    }\n",
       "\n",
       "    .dataframe thead th {\n",
       "        text-align: right;\n",
       "    }\n",
       "</style>\n",
       "<table border=\"1\" class=\"dataframe\">\n",
       "  <thead>\n",
       "    <tr style=\"text-align: right;\">\n",
       "      <th></th>\n",
       "      <th>ID</th>\n",
       "      <th>Score</th>\n",
       "      <th>Estado</th>\n",
       "      <th>Sexo</th>\n",
       "      <th>Idade</th>\n",
       "      <th>Patrimonio</th>\n",
       "      <th>Saldo</th>\n",
       "      <th>Produtos</th>\n",
       "      <th>TemCartaoCredito</th>\n",
       "      <th>Ativo</th>\n",
       "      <th>Salario</th>\n",
       "      <th>Saiu</th>\n",
       "    </tr>\n",
       "  </thead>\n",
       "  <tbody>\n",
       "  </tbody>\n",
       "</table>\n",
       "</div>"
      ],
      "text/plain": [
       "Empty DataFrame\n",
       "Columns: [ID, Score, Estado, Sexo, Idade, Patrimonio, Saldo, Produtos, TemCartaoCredito, Ativo, Salario, Saiu]\n",
       "Index: []"
      ]
     },
     "execution_count": 115,
     "metadata": {},
     "output_type": "execute_result"
    }
   ],
   "source": [
    "df.loc[df['Salario'] >= 2 * desv, 'Salario'] = mediana\n",
    "df.loc[df['Salario'] >= 2 * desv]"
   ]
  },
  {
   "cell_type": "code",
   "execution_count": 116,
   "id": "b3668f21-e5e7-4a16-a706-66b43fc7c2be",
   "metadata": {
    "tags": []
   },
   "outputs": [
    {
     "data": {
      "text/html": [
       "<div>\n",
       "<style scoped>\n",
       "    .dataframe tbody tr th:only-of-type {\n",
       "        vertical-align: middle;\n",
       "    }\n",
       "\n",
       "    .dataframe tbody tr th {\n",
       "        vertical-align: top;\n",
       "    }\n",
       "\n",
       "    .dataframe thead th {\n",
       "        text-align: right;\n",
       "    }\n",
       "</style>\n",
       "<table border=\"1\" class=\"dataframe\">\n",
       "  <thead>\n",
       "    <tr style=\"text-align: right;\">\n",
       "      <th></th>\n",
       "      <th>ID</th>\n",
       "      <th>Score</th>\n",
       "      <th>Estado</th>\n",
       "      <th>Sexo</th>\n",
       "      <th>Idade</th>\n",
       "      <th>Patrimonio</th>\n",
       "      <th>Saldo</th>\n",
       "      <th>Produtos</th>\n",
       "      <th>TemCartaoCredito</th>\n",
       "      <th>Ativo</th>\n",
       "      <th>Salario</th>\n",
       "      <th>Saiu</th>\n",
       "    </tr>\n",
       "  </thead>\n",
       "  <tbody>\n",
       "    <tr>\n",
       "      <th>0</th>\n",
       "      <td>1</td>\n",
       "      <td>619</td>\n",
       "      <td>RS</td>\n",
       "      <td>Feminino</td>\n",
       "      <td>42</td>\n",
       "      <td>2</td>\n",
       "      <td>0</td>\n",
       "      <td>1</td>\n",
       "      <td>1</td>\n",
       "      <td>1</td>\n",
       "      <td>10134888.0</td>\n",
       "      <td>1</td>\n",
       "    </tr>\n",
       "    <tr>\n",
       "      <th>1</th>\n",
       "      <td>2</td>\n",
       "      <td>608</td>\n",
       "      <td>SC</td>\n",
       "      <td>Feminino</td>\n",
       "      <td>41</td>\n",
       "      <td>1</td>\n",
       "      <td>8380786</td>\n",
       "      <td>1</td>\n",
       "      <td>0</td>\n",
       "      <td>1</td>\n",
       "      <td>11254258.0</td>\n",
       "      <td>0</td>\n",
       "    </tr>\n",
       "    <tr>\n",
       "      <th>2</th>\n",
       "      <td>3</td>\n",
       "      <td>502</td>\n",
       "      <td>RS</td>\n",
       "      <td>Feminino</td>\n",
       "      <td>42</td>\n",
       "      <td>8</td>\n",
       "      <td>1596608</td>\n",
       "      <td>3</td>\n",
       "      <td>1</td>\n",
       "      <td>0</td>\n",
       "      <td>11393157.0</td>\n",
       "      <td>1</td>\n",
       "    </tr>\n",
       "    <tr>\n",
       "      <th>3</th>\n",
       "      <td>4</td>\n",
       "      <td>699</td>\n",
       "      <td>RS</td>\n",
       "      <td>Feminino</td>\n",
       "      <td>39</td>\n",
       "      <td>1</td>\n",
       "      <td>0</td>\n",
       "      <td>2</td>\n",
       "      <td>0</td>\n",
       "      <td>0</td>\n",
       "      <td>9382663.0</td>\n",
       "      <td>0</td>\n",
       "    </tr>\n",
       "    <tr>\n",
       "      <th>4</th>\n",
       "      <td>5</td>\n",
       "      <td>850</td>\n",
       "      <td>SC</td>\n",
       "      <td>Feminino</td>\n",
       "      <td>43</td>\n",
       "      <td>2</td>\n",
       "      <td>12551082</td>\n",
       "      <td>1</td>\n",
       "      <td>1</td>\n",
       "      <td>1</td>\n",
       "      <td>790841.0</td>\n",
       "      <td>0</td>\n",
       "    </tr>\n",
       "  </tbody>\n",
       "</table>\n",
       "</div>"
      ],
      "text/plain": [
       "   ID  Score Estado      Sexo  Idade  Patrimonio     Saldo  Produtos  \\\n",
       "0   1    619     RS  Feminino     42           2         0         1   \n",
       "1   2    608     SC  Feminino     41           1   8380786         1   \n",
       "2   3    502     RS  Feminino     42           8   1596608         3   \n",
       "3   4    699     RS  Feminino     39           1         0         2   \n",
       "4   5    850     SC  Feminino     43           2  12551082         1   \n",
       "\n",
       "   TemCartaoCredito  Ativo     Salario  Saiu  \n",
       "0                 1      1  10134888.0     1  \n",
       "1                 0      1  11254258.0     0  \n",
       "2                 1      0  11393157.0     1  \n",
       "3                 0      0   9382663.0     0  \n",
       "4                 1      1    790841.0     0  "
      ]
     },
     "execution_count": 116,
     "metadata": {},
     "output_type": "execute_result"
    }
   ],
   "source": [
    "df.head()"
   ]
  },
  {
   "cell_type": "code",
   "execution_count": 117,
   "id": "be3115cc-d2a2-4874-8cd5-0da5d2ea1e55",
   "metadata": {
    "tags": []
   },
   "outputs": [
    {
     "data": {
      "text/plain": [
       "(996, 12)"
      ]
     },
     "execution_count": 117,
     "metadata": {},
     "output_type": "execute_result"
    }
   ],
   "source": [
    "df.shape"
   ]
  }
 ],
 "metadata": {
  "kernelspec": {
   "display_name": "Python 3 (ipykernel)",
   "language": "python",
   "name": "python3"
  },
  "language_info": {
   "codemirror_mode": {
    "name": "ipython",
    "version": 3
   },
   "file_extension": ".py",
   "mimetype": "text/x-python",
   "name": "python",
   "nbconvert_exporter": "python",
   "pygments_lexer": "ipython3",
   "version": "3.11.5"
  }
 },
 "nbformat": 4,
 "nbformat_minor": 5
}
