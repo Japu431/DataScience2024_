{
 "cells": [
  {
   "cell_type": "code",
   "execution_count": null,
   "id": "02a536bd-8d5e-46a4-9e6d-44072c41ebab",
   "metadata": {},
   "outputs": [],
   "source": [
    "# Calculadora: Crie uma calculadora simples que pode executar operações básicas como adição, subtração, multiplicação e divisão."
   ]
  },
  {
   "cell_type": "code",
   "execution_count": 27,
   "id": "2e1caa14-75f8-4579-b47f-8cb8debb4385",
   "metadata": {
    "tags": []
   },
   "outputs": [
    {
     "name": "stdout",
     "output_type": "stream",
     "text": [
      "----- CALCULADORA EM PYTHON ----- \n",
      "\n",
      "\n",
      "Digite o N1 : \n"
     ]
    },
    {
     "name": "stdin",
     "output_type": "stream",
     "text": [
      " 30\n"
     ]
    },
    {
     "name": "stdout",
     "output_type": "stream",
     "text": [
      "Digite o N2 : \n"
     ]
    },
    {
     "name": "stdin",
     "output_type": "stream",
     "text": [
      " 15\n"
     ]
    },
    {
     "name": "stdout",
     "output_type": "stream",
     "text": [
      "\n",
      "Para começar você deseja fazer qual operação ?\n",
      "(1) - Soma...\n",
      "(2) - Subtração...\n",
      "(3) - Multiplicação...\n",
      "(4) - Divisão...\n"
     ]
    },
    {
     "name": "stdin",
     "output_type": "stream",
     "text": [
      " 4\n"
     ]
    },
    {
     "name": "stdout",
     "output_type": "stream",
     "text": [
      "A divisão entre 30 / 15 = 2.0\n"
     ]
    }
   ],
   "source": [
    "print('----- CALCULADORA EM PYTHON ----- ')\n",
    "print('\\n')\n",
    "\n",
    "print(\"Digite o N1 : \")\n",
    "n1 = input()\n",
    "print(\"Digite o N2 : \")\n",
    "n2 = input()\n",
    "\n",
    "n1_val = int(n1)\n",
    "n2_val = int(n2)\n",
    "\n",
    "\n",
    "print('\\nPara começar você deseja fazer qual operação ?')\n",
    "print('(1) - Soma...')\n",
    "print('(2) - Subtração...')\n",
    "print('(3) - Multiplicação...')\n",
    "print('(4) - Divisão...')\n",
    "operacao = input()\n",
    "if operacao == \"1\":\n",
    "    print(f\"A soma de {n1_val} + {n2_val} = {n1_val + n2_val}\")\n",
    "elif operacao == \"2\":\n",
    "    print(f\"A subtraçaõ de {n1_val} - {n2_val} = {n1_val - n2_val}\")\n",
    "elif operacao == \"3\":\n",
    "    print(f\"A multiplicação entre {n1_val} x {n2_val} = {n1_val * n2_val}\")\n",
    "elif operacao == \"4\":\n",
    "    if n1_val < n2_val:\n",
    "        print(\"Valor de n1 não pode ser menor que n2 para divisão!\")\n",
    "    else:\n",
    "        print(f\"A divisão entre {n1_val} / {n2_val} = {n1_val / n2_val}\")\n",
    "else:\n",
    "    print(\"Não existe operação para essa opção!!!\")\n"
   ]
  },
  {
   "cell_type": "code",
   "execution_count": null,
   "id": "91e21195-377f-4fc2-9099-ad0ac7cb1327",
   "metadata": {},
   "outputs": [],
   "source": []
  }
 ],
 "metadata": {
  "kernelspec": {
   "display_name": "Python 3 (ipykernel)",
   "language": "python",
   "name": "python3"
  },
  "language_info": {
   "codemirror_mode": {
    "name": "ipython",
    "version": 3
   },
   "file_extension": ".py",
   "mimetype": "text/x-python",
   "name": "python",
   "nbconvert_exporter": "python",
   "pygments_lexer": "ipython3",
   "version": "3.11.5"
  }
 },
 "nbformat": 4,
 "nbformat_minor": 5
}
