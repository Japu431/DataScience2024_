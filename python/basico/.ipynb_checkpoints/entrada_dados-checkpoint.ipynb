{
 "cells": [
  {
   "cell_type": "code",
   "execution_count": 1,
   "id": "27082541-56c3-4e05-b044-9e80e2cb81a9",
   "metadata": {
    "tags": []
   },
   "outputs": [],
   "source": [
    "# A ideia desse notebook seria aprender como fazer input de dados com py"
   ]
  },
  {
   "cell_type": "code",
   "execution_count": 7,
   "id": "76193341-f8d3-4186-b537-1e0be427cab9",
   "metadata": {
    "tags": []
   },
   "outputs": [
    {
     "name": "stdout",
     "output_type": "stream",
     "text": [
      "Qual é o seu nome? : \n"
     ]
    },
    {
     "name": "stdin",
     "output_type": "stream",
     "text": [
      " Matheus\n"
     ]
    },
    {
     "name": "stdout",
     "output_type": "stream",
     "text": [
      "Legal!! Agora eu sei o seu nome, Matheus!!! \n"
     ]
    }
   ],
   "source": [
    "print(\"Qual é o seu nome? : \") \n",
    "nome = input()\n",
    "print(f\"Legal!! Agora eu sei o seu nome, {nome}!!! \")"
   ]
  },
  {
   "cell_type": "code",
   "execution_count": 11,
   "id": "a423c099-2b38-487f-ab4a-702f54dd876b",
   "metadata": {
    "tags": []
   },
   "outputs": [
    {
     "name": "stdout",
     "output_type": "stream",
     "text": [
      "Digite o valor do produto\n"
     ]
    },
    {
     "name": "stdin",
     "output_type": "stream",
     "text": [
      " 100\n"
     ]
    },
    {
     "name": "stdout",
     "output_type": "stream",
     "text": [
      "O valor das prestacões será de 20.0\n"
     ]
    }
   ],
   "source": [
    "print(\"Digite o valor do produto\")\n",
    "valorCompra = input()\n",
    "juros = (float(valorCompra) / 5)\n",
    "print(f\"O valor das prestacões será de {juros}\")"
   ]
  },
  {
   "cell_type": "code",
   "execution_count": 12,
   "id": "be157771-e981-4e1c-8567-b27f1692fe53",
   "metadata": {
    "tags": []
   },
   "outputs": [
    {
     "name": "stdout",
     "output_type": "stream",
     "text": [
      "Digite o seu primeiro nome: \n"
     ]
    },
    {
     "name": "stdin",
     "output_type": "stream",
     "text": [
      " Matheus\n"
     ]
    },
    {
     "name": "stdout",
     "output_type": "stream",
     "text": [
      "Por favor digite o seu sobrenome: \n"
     ]
    },
    {
     "name": "stdin",
     "output_type": "stream",
     "text": [
      " Yusuke\n"
     ]
    },
    {
     "name": "stdout",
     "output_type": "stream",
     "text": [
      "OK, seja bem vindo! Matheus Yusuke\n"
     ]
    }
   ],
   "source": [
    "print(\"Digite o seu primeiro nome: \")\n",
    "nome = input()\n",
    "print(\"Por favor digite o seu sobrenome: \")\n",
    "sobrenome = input()\n",
    "\n",
    "print(f\"OK, seja bem vindo! {nome} {sobrenome}\")"
   ]
  },
  {
   "cell_type": "code",
   "execution_count": 13,
   "id": "a19e4370-10da-4681-8b77-9fde72b493d7",
   "metadata": {
    "tags": []
   },
   "outputs": [
    {
     "name": "stdout",
     "output_type": "stream",
     "text": [
      "['doyztrzd', 'bgnjctw', 'rczgea', 'dewanwa', 'clj', 'ftdvmqtb', 'arjqqv', 'tfrdmqbq', 'sihwbj', 'maldtsu', 'hljfkq', 'ysncr', 'vnzchyil', 'dia', 'ajhzqk', 'dgzh', 'ewmprf', 'dysl', 'talluahi', 'ctmr']\n"
     ]
    }
   ],
   "source": [
    "import random\n",
    "import string\n",
    "\n",
    "# Função para gerar nomes de variáveis aleatórias\n",
    "def generate_random_variable_name():\n",
    "    variable_name = ''.join(random.choices(string.ascii_lowercase, k=random.randint(3, 8)))\n",
    "    return variable_name\n",
    "\n",
    "# Criando um array com 20 variáveis aleatórias\n",
    "array = [generate_random_variable_name() for _ in range(20)]\n",
    "\n",
    "# Exibindo o array com os nomes de variáveis aleatórias\n",
    "print(array)\n"
   ]
  },
  {
   "cell_type": "code",
   "execution_count": 20,
   "id": "0f0fab49-5492-43d3-ba9b-db78744f6503",
   "metadata": {
    "tags": []
   },
   "outputs": [
    {
     "name": "stdout",
     "output_type": "stream",
     "text": [
      "0 doyztrzd\n",
      "1 bgnjctw\n",
      "2 rczgea\n",
      "3 dewanwa\n",
      "4 clj\n",
      "5 ftdvmqtb\n",
      "6 arjqqv\n",
      "7 tfrdmqbq\n",
      "8 sihwbj\n",
      "9 maldtsu\n",
      "10 hljfkq\n",
      "11 ysncr\n",
      "12 vnzchyil\n",
      "13 dia\n",
      "14 ajhzqk\n",
      "15 dgzh\n",
      "16 ewmprf\n",
      "17 dysl\n",
      "18 talluahi\n",
      "19 ctmr\n"
     ]
    }
   ],
   "source": [
    "variaveis = ['doyztrzd', 'bgnjctw', 'rczgea', 'dewanwa', 'clj', 'ftdvmqtb', 'arjqqv', 'tfrdmqbq', 'sihwbj', 'maldtsu', 'hljfkq', 'ysncr', 'vnzchyil', 'dia', 'ajhzqk', 'dgzh', 'ewmprf', 'dysl', 'talluahi', 'ctmr']\n",
    "\n",
    "for var in range(len(variaveis)):\n",
    "    print(var, variaveis[var])\n",
    "    \n",
    "    \n"
   ]
  },
  {
   "cell_type": "code",
   "execution_count": null,
   "id": "03ec9b47-c5e5-4341-aa7f-31c9d9a5e5d2",
   "metadata": {},
   "outputs": [],
   "source": []
  },
  {
   "cell_type": "code",
   "execution_count": null,
   "id": "20c829d7-97cb-4584-9723-afd8fb31dea7",
   "metadata": {},
   "outputs": [],
   "source": []
  }
 ],
 "metadata": {
  "kernelspec": {
   "display_name": "Python 3 (ipykernel)",
   "language": "python",
   "name": "python3"
  },
  "language_info": {
   "codemirror_mode": {
    "name": "ipython",
    "version": 3
   },
   "file_extension": ".py",
   "mimetype": "text/x-python",
   "name": "python",
   "nbconvert_exporter": "python",
   "pygments_lexer": "ipython3",
   "version": "3.11.5"
  }
 },
 "nbformat": 4,
 "nbformat_minor": 5
}
