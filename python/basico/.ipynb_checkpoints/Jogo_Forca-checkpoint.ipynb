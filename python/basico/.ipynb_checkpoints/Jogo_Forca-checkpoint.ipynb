{
 "cells": [
  {
   "cell_type": "code",
   "execution_count": null,
   "id": "f8f8894d-1752-460b-876a-b6639f7d8b42",
   "metadata": {},
   "outputs": [],
   "source": [
    "# Jogo da Forca: Implemente o clássico jogo da forca em que o jogador deve adivinhar\n",
    "# uma palavra oculta, tendo um número limitado de tentativas."
   ]
  },
  {
   "cell_type": "code",
   "execution_count": null,
   "id": "34efda04-2dbf-4de9-8060-70e18c93e114",
   "metadata": {},
   "outputs": [],
   "source": []
  }
 ],
 "metadata": {
  "kernelspec": {
   "display_name": "Python 3 (ipykernel)",
   "language": "python",
   "name": "python3"
  },
  "language_info": {
   "codemirror_mode": {
    "name": "ipython",
    "version": 3
   },
   "file_extension": ".py",
   "mimetype": "text/x-python",
   "name": "python",
   "nbconvert_exporter": "python",
   "pygments_lexer": "ipython3",
   "version": "3.11.5"
  }
 },
 "nbformat": 4,
 "nbformat_minor": 5
}
