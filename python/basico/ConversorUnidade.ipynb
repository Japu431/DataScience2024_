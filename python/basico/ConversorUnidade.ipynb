{
 "cells": [
  {
   "cell_type": "code",
   "execution_count": null,
   "id": "016ed4a5-61f3-4d4d-a490-0d6a697d4c6d",
   "metadata": {},
   "outputs": [],
   "source": [
    "#Conversor de Unidades: \n",
    "# Desenvolva um programa que converta entre diferentes unidades de medida,\n",
    "# como Celsius para Fahrenheit,\n",
    "# quilômetros para milhas,\n",
    "# metros para pés, etc."
   ]
  },
  {
   "cell_type": "code",
   "execution_count": null,
   "id": "97c6240b-8678-4eee-8b00-107f60e705b0",
   "metadata": {
    "tags": []
   },
   "outputs": [
    {
     "name": "stdout",
     "output_type": "stream",
     "text": [
      "----- CONVERSOR DE UNIDADES -----\n",
      "Escolha a opção que deseja!\n",
      "(1) - Celsius para Fahrenheit ...\n",
      "(2) - KM para Milhas ...\n",
      "(3) - Metros para pés ...\n"
     ]
    }
   ],
   "source": [
    "print(\"----- CONVERSOR DE UNIDADES -----\")\n",
    "print(\"Escolha a opção que deseja!\")\n",
    "print(\"(1) - Celsius para Fahrenheit ...\")\n",
    "print(\"(2) - KM para Milhas ...\")\n",
    "print(\"(3) - Metros para pés ... \\n\")\n",
    "\n",
    "opcao = input()\n",
    "if opcao == \"1\":\n",
    "    print(\"Digite o graus celsius: \")\n",
    "    gcelsius = input()\n",
    "    fahrenheit = ((float(gcelsius) * 1.8) + 32)\n",
    "    print(f\"{float(gcelsius)}ºC para Fahrenheit = {fahrenheit}\")\n",
    "elif opcao == \"2\":\n",
    "    print(\"Digite o KM desejado: \")\n",
    "    km = input()\n",
    "    milha = (float(km) / 1.609) \n",
    "    print(f\"{float(km)}km para milhas é aproximadamente de = {round(milha, 4)} milhas\")\n",
    "elif opcao == \"3\":\n",
    "    print(\"Digite o valor do metro desejado: \")\n",
    "    metro = input()\n",
    "    pes_media = (float(metro) * 3.281)\n",
    "    print(f\"O valor de {metro} metros para pés é de aproximadamente = {round(pes_media, 4)}\")\n",
    "else:\n",
    "    print(\"Opção desejada não existe!! Escolha outra\")\n"
   ]
  }
 ],
 "metadata": {
  "kernelspec": {
   "display_name": "Python 3 (ipykernel)",
   "language": "python",
   "name": "python3"
  },
  "language_info": {
   "codemirror_mode": {
    "name": "ipython",
    "version": 3
   },
   "file_extension": ".py",
   "mimetype": "text/x-python",
   "name": "python",
   "nbconvert_exporter": "python",
   "pygments_lexer": "ipython3",
   "version": "3.11.5"
  }
 },
 "nbformat": 4,
 "nbformat_minor": 5
}
