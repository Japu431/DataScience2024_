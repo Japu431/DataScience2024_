{
 "cells": [
  {
   "cell_type": "code",
   "execution_count": null,
   "id": "f8f8894d-1752-460b-876a-b6639f7d8b42",
   "metadata": {},
   "outputs": [],
   "source": [
    "# Jogo da Forca: Implemente o clássico jogo da forca em que o jogador deve adivinhar\n",
    "# uma palavra oculta, tendo um número limitado de tentativas."
   ]
  },
  {
   "cell_type": "code",
   "execution_count": 3,
   "id": "34efda04-2dbf-4de9-8060-70e18c93e114",
   "metadata": {},
   "outputs": [
    {
     "name": "stdout",
     "output_type": "stream",
     "text": [
      "Palavra: ______\n",
      "Digite uma letra: y\n",
      "Palavra: _y____\n",
      "Digite uma letra: a\n",
      "Letra incorreta. Você tem 5 tentativas restantes.\n",
      "Palavra: _y____\n",
      "Digite uma letra: p\n",
      "Palavra: py____\n",
      "Digite uma letra: t\n",
      "Palavra: pyt___\n",
      "Digite uma letra: h\n",
      "Palavra: pyth__\n",
      "Digite uma letra: o\n",
      "Palavra: pytho_\n",
      "Digite uma letra: n\n",
      "Parabéns! Você venceu!\n"
     ]
    }
   ],
   "source": [
    "# Defina a palavra que o jogador deve adivinhar\n",
    "palavra = \"python\"\n",
    "\n",
    "# Inicialize a lista de letras já adivinhadas\n",
    "letras_adivinhadas = []\n",
    "\n",
    "# Defina o número máximo de tentativas\n",
    "max_tentativas = 6\n",
    "\n",
    "# Loop principal do jogo\n",
    "while max_tentativas > 0:\n",
    "    # Mostra a palavra com as letras adivinhadas\n",
    "    palavra_mascarada = \"\"\n",
    "    for letra in palavra:\n",
    "        if letra in letras_adivinhadas:\n",
    "            palavra_mascarada += letra\n",
    "        else:\n",
    "            palavra_mascarada += \"_\"\n",
    "    print(\"Palavra:\", palavra_mascarada)\n",
    "    \n",
    "    # Pede ao jogador para adivinhar uma letra\n",
    "    tentativa = input(\"Digite uma letra: \").lower()\n",
    "    \n",
    "    # Verifica se a letra já foi adivinhada antes\n",
    "    if tentativa in letras_adivinhadas:\n",
    "        print(\"Você já tentou essa letra.\")\n",
    "        continue\n",
    "    \n",
    "    # Adiciona a letra às letras adivinhadas\n",
    "    letras_adivinhadas.append(tentativa)\n",
    "    \n",
    "    # Verifica se a letra está na palavra\n",
    "    if tentativa not in palavra:\n",
    "        max_tentativas -= 1\n",
    "        print(\"Letra incorreta. Você tem\", max_tentativas, \"tentativas restantes.\")\n",
    "    \n",
    "    # Verifica se o jogador venceu\n",
    "    if all(letra in letras_adivinhadas for letra in palavra):\n",
    "        print(\"Parabéns! Você venceu!\")\n",
    "        break\n",
    "else:\n",
    "    print(\"Você perdeu. A palavra era:\", palavra)\n"
   ]
  }
 ],
 "metadata": {
  "kernelspec": {
   "display_name": "Python 3 (ipykernel)",
   "language": "python",
   "name": "python3"
  },
  "language_info": {
   "codemirror_mode": {
    "name": "ipython",
    "version": 3
   },
   "file_extension": ".py",
   "mimetype": "text/x-python",
   "name": "python",
   "nbconvert_exporter": "python",
   "pygments_lexer": "ipython3",
   "version": "3.11.5"
  }
 },
 "nbformat": 4,
 "nbformat_minor": 5
}
